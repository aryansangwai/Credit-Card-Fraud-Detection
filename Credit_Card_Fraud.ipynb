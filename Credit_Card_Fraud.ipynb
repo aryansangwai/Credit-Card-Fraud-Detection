{
  "nbformat": 4,
  "nbformat_minor": 0,
  "metadata": {
    "colab": {
      "provenance": []
    },
    "kernelspec": {
      "name": "python3",
      "display_name": "Python 3"
    },
    "language_info": {
      "name": "python"
    }
  },
  "cells": [
    {
      "cell_type": "code",
      "execution_count": 23,
      "metadata": {
        "id": "npbK59WBaVLQ"
      },
      "outputs": [],
      "source": [
        "import numpy as np\n",
        "import matplotlib.pyplot as plt\n",
        "import pandas as pd\n",
        "import seaborn as sns\n",
        "from matplotlib import gridspec\n"
      ]
    },
    {
      "cell_type": "code",
      "source": [
        "data=pd.read_csv(\"/content/creditcard.csv\")\n",
        "print(data.head())"
      ],
      "metadata": {
        "colab": {
          "base_uri": "https://localhost:8080/"
        },
        "id": "hCvSFeMganac",
        "outputId": "8ee3e355-31ae-4a5e-8293-680467c2e000"
      },
      "execution_count": 24,
      "outputs": [
        {
          "output_type": "stream",
          "name": "stdout",
          "text": [
            "   Time        V1        V2        V3        V4        V5        V6        V7  \\\n",
            "0     0 -1.359807 -0.072781  2.536347  1.378155 -0.338321  0.462388  0.239599   \n",
            "1     0  1.191857  0.266151  0.166480  0.448154  0.060018 -0.082361 -0.078803   \n",
            "2     1 -1.358354 -1.340163  1.773209  0.379780 -0.503198  1.800499  0.791461   \n",
            "3     1 -0.966272 -0.185226  1.792993 -0.863291 -0.010309  1.247203  0.237609   \n",
            "4     2 -1.158233  0.877737  1.548718  0.403034 -0.407193  0.095921  0.592941   \n",
            "\n",
            "         V8        V9  ...       V21       V22       V23       V24       V25  \\\n",
            "0  0.098698  0.363787  ... -0.018307  0.277838 -0.110474  0.066928  0.128539   \n",
            "1  0.085102 -0.255425  ... -0.225775 -0.638672  0.101288 -0.339846  0.167170   \n",
            "2  0.247676 -1.514654  ...  0.247998  0.771679  0.909412 -0.689281 -0.327642   \n",
            "3  0.377436 -1.387024  ... -0.108300  0.005274 -0.190321 -1.175575  0.647376   \n",
            "4 -0.270533  0.817739  ... -0.009431  0.798278 -0.137458  0.141267 -0.206010   \n",
            "\n",
            "        V26       V27       V28  Amount  Class  \n",
            "0 -0.189115  0.133558 -0.021053  149.62    0.0  \n",
            "1  0.125895 -0.008983  0.014724    2.69    0.0  \n",
            "2 -0.139097 -0.055353 -0.059752  378.66    0.0  \n",
            "3 -0.221929  0.062723  0.061458  123.50    0.0  \n",
            "4  0.502292  0.219422  0.215153   69.99    0.0  \n",
            "\n",
            "[5 rows x 31 columns]\n"
          ]
        }
      ]
    },
    {
      "cell_type": "code",
      "source": [
        "print(data.shape)\n",
        "print(data.describe())"
      ],
      "metadata": {
        "colab": {
          "base_uri": "https://localhost:8080/"
        },
        "id": "bKf6EOlpcGc9",
        "outputId": "1b8a6bcc-2142-4398-b08f-f1d83e6977da"
      },
      "execution_count": 25,
      "outputs": [
        {
          "output_type": "stream",
          "name": "stdout",
          "text": [
            "(122881, 31)\n",
            "                Time             V1             V2             V3  \\\n",
            "count  122881.000000  122881.000000  122881.000000  122881.000000   \n",
            "mean    47960.696788      -0.253250      -0.005554       0.677405   \n",
            "std     19271.900236       1.834020       1.633205       1.288146   \n",
            "min         0.000000     -56.407510     -72.715728     -33.680984   \n",
            "25%     36052.000000      -1.021720      -0.581971       0.173661   \n",
            "50%     49837.000000      -0.264411       0.091708       0.752260   \n",
            "75%     63807.000000       1.155820       0.758901       1.372370   \n",
            "max     76723.000000       1.960497      18.902453       9.382558   \n",
            "\n",
            "                  V4             V5             V6             V7  \\\n",
            "count  122881.000000  122881.000000  122881.000000  122881.000000   \n",
            "mean        0.152665      -0.282974       0.087168      -0.114256   \n",
            "std         1.334018       1.327517       1.291374       1.186551   \n",
            "min        -5.172595     -42.147898     -26.160506     -31.764946   \n",
            "25%        -0.706443      -0.903002      -0.655439      -0.601388   \n",
            "50%         0.181079      -0.315399      -0.166068      -0.065620   \n",
            "75%         1.010846       0.241297       0.476502       0.412303   \n",
            "max        16.715537      34.801666      22.529298      36.677268   \n",
            "\n",
            "                  V8             V9  ...            V21            V22  \\\n",
            "count  122881.000000  122881.000000  ...  122880.000000  122880.000000   \n",
            "mean        0.061358      -0.082085  ...      -0.035798      -0.114510   \n",
            "std         1.218203       1.094722  ...       0.727846       0.636947   \n",
            "min       -73.216718      -9.283925  ...     -34.830382     -10.933144   \n",
            "25%        -0.133808      -0.710413  ...      -0.225735      -0.542633   \n",
            "50%         0.077815      -0.143429  ...      -0.059072      -0.092418   \n",
            "75%         0.371037       0.500983  ...       0.116776       0.305230   \n",
            "max        20.007208      15.594995  ...      27.202839      10.503090   \n",
            "\n",
            "                 V23            V24            V25            V26  \\\n",
            "count  122880.000000  122880.000000  122880.000000  122880.000000   \n",
            "mean       -0.034994       0.011765       0.130405       0.027722   \n",
            "std         0.612574       0.594813       0.439128       0.491219   \n",
            "min       -44.807735      -2.836627     -10.295397      -2.534330   \n",
            "25%        -0.173788      -0.324193      -0.135449      -0.323343   \n",
            "50%        -0.047193       0.068303       0.167028      -0.063527   \n",
            "75%         0.082634       0.408798       0.418853       0.293750   \n",
            "max        19.002942       4.016342       5.541598       3.517346   \n",
            "\n",
            "                 V27            V28         Amount          Class  \n",
            "count  122880.000000  122880.000000  122880.000000  122880.000000  \n",
            "mean        0.000683       0.001862      93.959043       0.002035  \n",
            "std         0.393659       0.316475     255.084703       0.045060  \n",
            "min       -22.565679     -11.710896       0.000000       0.000000  \n",
            "25%        -0.060889      -0.004492       6.790000       0.000000  \n",
            "50%         0.010946       0.023472      24.990000       0.000000  \n",
            "75%         0.084951       0.077447      84.450000       0.000000  \n",
            "max        12.152401      33.847808   19656.530000       1.000000  \n",
            "\n",
            "[8 rows x 31 columns]\n"
          ]
        }
      ]
    },
    {
      "cell_type": "code",
      "source": [
        "fraud = data[data['Class'] == 1]\n",
        "valid = data[data['Class'] == 0]\n",
        "outlierFraction = len(fraud)/float(len(valid))\n",
        "print(outlierFraction)\n",
        "print('Fraud Cases: {}'.format(len(data[data['Class'] == 1])))\n",
        "print('Valid Transactions: {}'.format(len(data[data['Class'] == 0])))"
      ],
      "metadata": {
        "colab": {
          "base_uri": "https://localhost:8080/"
        },
        "id": "-H-WATFfcTsK",
        "outputId": "eb610259-3f84-4bc3-83ba-b99f0f521f56"
      },
      "execution_count": 26,
      "outputs": [
        {
          "output_type": "stream",
          "name": "stdout",
          "text": [
            "0.0020386528581913073\n",
            "Fraud Cases: 250\n",
            "Valid Transactions: 122630\n"
          ]
        }
      ]
    },
    {
      "cell_type": "code",
      "source": [
        "print(\"Amount details of fraud transactions:\")\n",
        "fraud.Amount.describe()"
      ],
      "metadata": {
        "colab": {
          "base_uri": "https://localhost:8080/",
          "height": 352
        },
        "id": "Wfa8GKK7cnK0",
        "outputId": "c1a24622-b13a-4109-aade-e9707db5f9d7"
      },
      "execution_count": 27,
      "outputs": [
        {
          "output_type": "stream",
          "name": "stdout",
          "text": [
            "Amount details of fraud transactions:\n"
          ]
        },
        {
          "output_type": "execute_result",
          "data": {
            "text/plain": [
              "count     250.000000\n",
              "mean      119.582960\n",
              "std       250.736534\n",
              "min         0.000000\n",
              "25%         1.000000\n",
              "50%        11.850000\n",
              "75%        99.990000\n",
              "max      1809.680000\n",
              "Name: Amount, dtype: float64"
            ],
            "text/html": [
              "<div>\n",
              "<style scoped>\n",
              "    .dataframe tbody tr th:only-of-type {\n",
              "        vertical-align: middle;\n",
              "    }\n",
              "\n",
              "    .dataframe tbody tr th {\n",
              "        vertical-align: top;\n",
              "    }\n",
              "\n",
              "    .dataframe thead th {\n",
              "        text-align: right;\n",
              "    }\n",
              "</style>\n",
              "<table border=\"1\" class=\"dataframe\">\n",
              "  <thead>\n",
              "    <tr style=\"text-align: right;\">\n",
              "      <th></th>\n",
              "      <th>Amount</th>\n",
              "    </tr>\n",
              "  </thead>\n",
              "  <tbody>\n",
              "    <tr>\n",
              "      <th>count</th>\n",
              "      <td>250.000000</td>\n",
              "    </tr>\n",
              "    <tr>\n",
              "      <th>mean</th>\n",
              "      <td>119.582960</td>\n",
              "    </tr>\n",
              "    <tr>\n",
              "      <th>std</th>\n",
              "      <td>250.736534</td>\n",
              "    </tr>\n",
              "    <tr>\n",
              "      <th>min</th>\n",
              "      <td>0.000000</td>\n",
              "    </tr>\n",
              "    <tr>\n",
              "      <th>25%</th>\n",
              "      <td>1.000000</td>\n",
              "    </tr>\n",
              "    <tr>\n",
              "      <th>50%</th>\n",
              "      <td>11.850000</td>\n",
              "    </tr>\n",
              "    <tr>\n",
              "      <th>75%</th>\n",
              "      <td>99.990000</td>\n",
              "    </tr>\n",
              "    <tr>\n",
              "      <th>max</th>\n",
              "      <td>1809.680000</td>\n",
              "    </tr>\n",
              "  </tbody>\n",
              "</table>\n",
              "</div><br><label><b>dtype:</b> float64</label>"
            ]
          },
          "metadata": {},
          "execution_count": 27
        }
      ]
    },
    {
      "cell_type": "code",
      "source": [
        "print(\"Amount details of Valid transactions\")\n",
        "valid.Amount.describe()"
      ],
      "metadata": {
        "colab": {
          "base_uri": "https://localhost:8080/",
          "height": 352
        },
        "id": "BfxBauamc0Vz",
        "outputId": "e3db1124-77c0-4086-8b83-99fd08cf2956"
      },
      "execution_count": 28,
      "outputs": [
        {
          "output_type": "stream",
          "name": "stdout",
          "text": [
            "Amount details of Valid transactions\n"
          ]
        },
        {
          "output_type": "execute_result",
          "data": {
            "text/plain": [
              "count    122630.000000\n",
              "mean         93.906805\n",
              "std         255.091868\n",
              "min           0.000000\n",
              "25%           6.830000\n",
              "50%          24.990000\n",
              "75%          84.150000\n",
              "max       19656.530000\n",
              "Name: Amount, dtype: float64"
            ],
            "text/html": [
              "<div>\n",
              "<style scoped>\n",
              "    .dataframe tbody tr th:only-of-type {\n",
              "        vertical-align: middle;\n",
              "    }\n",
              "\n",
              "    .dataframe tbody tr th {\n",
              "        vertical-align: top;\n",
              "    }\n",
              "\n",
              "    .dataframe thead th {\n",
              "        text-align: right;\n",
              "    }\n",
              "</style>\n",
              "<table border=\"1\" class=\"dataframe\">\n",
              "  <thead>\n",
              "    <tr style=\"text-align: right;\">\n",
              "      <th></th>\n",
              "      <th>Amount</th>\n",
              "    </tr>\n",
              "  </thead>\n",
              "  <tbody>\n",
              "    <tr>\n",
              "      <th>count</th>\n",
              "      <td>122630.000000</td>\n",
              "    </tr>\n",
              "    <tr>\n",
              "      <th>mean</th>\n",
              "      <td>93.906805</td>\n",
              "    </tr>\n",
              "    <tr>\n",
              "      <th>std</th>\n",
              "      <td>255.091868</td>\n",
              "    </tr>\n",
              "    <tr>\n",
              "      <th>min</th>\n",
              "      <td>0.000000</td>\n",
              "    </tr>\n",
              "    <tr>\n",
              "      <th>25%</th>\n",
              "      <td>6.830000</td>\n",
              "    </tr>\n",
              "    <tr>\n",
              "      <th>50%</th>\n",
              "      <td>24.990000</td>\n",
              "    </tr>\n",
              "    <tr>\n",
              "      <th>75%</th>\n",
              "      <td>84.150000</td>\n",
              "    </tr>\n",
              "    <tr>\n",
              "      <th>max</th>\n",
              "      <td>19656.530000</td>\n",
              "    </tr>\n",
              "  </tbody>\n",
              "</table>\n",
              "</div><br><label><b>dtype:</b> float64</label>"
            ]
          },
          "metadata": {},
          "execution_count": 28
        }
      ]
    },
    {
      "cell_type": "code",
      "source": [
        "corrmat = data.corr()\n",
        "fig = plt.figure(figsize = (12, 9))\n",
        "sns.heatmap(corrmat, vmax = .8, square = True)\n",
        "plt.show()"
      ],
      "metadata": {
        "colab": {
          "base_uri": "https://localhost:8080/",
          "height": 799
        },
        "id": "oIP8StkrdI1a",
        "outputId": "537a3d76-102a-45ec-e6bc-8201291ebbd8"
      },
      "execution_count": 29,
      "outputs": [
        {
          "output_type": "display_data",
          "data": {
            "text/plain": [
              "<Figure size 1200x900 with 2 Axes>"
            ],
            "image/png": "[encoded data removed]"
          },
          "metadata": {}
        }
      ]
    },
    {
      "cell_type": "code",
      "source": [
        "x=data.drop(['Class'],axis=1)\n",
        "y=data['Class']\n",
        "print(x.shape)\n",
        "print(y.shape)\n",
        "xdata=x.values\n",
        "ydata=y.values"
      ],
      "metadata": {
        "colab": {
          "base_uri": "https://localhost:8080/"
        },
        "id": "Rt49Gn8VdQ0M",
        "outputId": "cbb9bef0-809f-409b-e0da-f77713ee7e4b"
      },
      "execution_count": 30,
      "outputs": [
        {
          "output_type": "stream",
          "name": "stdout",
          "text": [
            "(122881, 30)\n",
            "(122881,)\n"
          ]
        }
      ]
    },
    {
      "cell_type": "code",
      "source": [
        "from sklearn.model_selection import train_test_split\n",
        "xTrain,xTest,yTrain,yTest=train_test_split(\n",
        "    xdata,ydata,test_size=0.2,random_state=42)"
      ],
      "metadata": {
        "id": "xJJ92RLTCPj1"
      },
      "execution_count": 46,
      "outputs": []
    },
    {
      "cell_type": "code",
      "source": [
        "\n",
        "import numpy as np\n",
        "print(pd.isnull(yTrain).sum())"
      ],
      "metadata": {
        "colab": {
          "base_uri": "https://localhost:8080/"
        },
        "id": "qsBm3rIR2aFh",
        "outputId": "3826cfd7-a5d3-4ee4-8454-2c8b15ac634b"
      },
      "execution_count": 71,
      "outputs": [
        {
          "output_type": "stream",
          "name": "stdout",
          "text": [
            "1\n"
          ]
        }
      ]
    },
    {
      "cell_type": "code",
      "source": [
        "import numpy as np\n",
        "\n",
        "# Assuming xTrain and yTrain are NumPy arrays\n",
        "print(f\"Length of xTrain: {len(xTrain)}\")\n",
        "print(f\"Length of yTrain: {len(yTrain)}\")\n",
        "\n",
        "# Align lengths\n",
        "min_length = min(len(xTrain), len(yTrain))\n",
        "xTrain = xTrain[:min_length]\n",
        "yTrain = yTrain[:min_length]\n",
        "\n",
        "# Handle NaN values in yTrain\n",
        "valid_indices = ~np.isnan(yTrain)\n",
        "xTrain = xTrain[valid_indices]\n",
        "yTrain = yTrain[valid_indices]\n",
        "\n",
        "# Validate alignment\n",
        "print(f\"New Length of xTrain: {len(xTrain)}\")\n",
        "print(f\"New Length of yTrain: {len(yTrain)}\")\n"
      ],
      "metadata": {
        "colab": {
          "base_uri": "https://localhost:8080/"
        },
        "id": "kb9OwuZ_-Do6",
        "outputId": "d47631e9-c824-4a16-9d84-44787ea9b8ea"
      },
      "execution_count": 73,
      "outputs": [
        {
          "output_type": "stream",
          "name": "stdout",
          "text": [
            "Length of xTrain: 98301\n",
            "Length of yTrain: 98302\n",
            "New Length of xTrain: 98300\n",
            "New Length of yTrain: 98300\n"
          ]
        }
      ]
    },
    {
      "cell_type": "code",
      "source": [
        "from sklearn.ensemble import RandomForestClassifier\n",
        "rfc=RandomForestClassifier()\n",
        "rfc.fit(xTrain, yTrain)\n",
        "yPred=rfc.predict(xTest)"
      ],
      "metadata": {
        "id": "RMcO6mBICxwc"
      },
      "execution_count": 74,
      "outputs": []
    },
    {
      "cell_type": "code",
      "source": [
        "from sklearn.metrics import classification_report,accuracy_score\n",
        "from sklearn.metrics import precision_score,recall_score\n",
        "from sklearn.metrics import f1_score ,matthews_corrcoef\n",
        "from sklearn.metrics import confusion_matrix\n",
        "\n",
        "n_outliers= len(fraud)\n",
        "n_errors=(yPred != yTest).sum()\n",
        "print(\"The model used is Random Forest Classifier\")\n",
        "\n",
        "acc=accuracy_score(yTest,yPred)\n",
        "print(\"The accuracy is {}\".format(acc))\n",
        "\n",
        "prec=precision_score(yTest,yPred)\n",
        "print(\"The pression is {}\".format(prec))\n",
        "\n",
        "f1=f1_score(yTest,yPred)\n",
        "print(\"The f1 score is {} \".format(f1))\n",
        "\n",
        "MCC = matthews_corrcoef(yTest, yPred)\n",
        "print(\"The Matthews correlation coefficient is{}\".format(MCC))"
      ],
      "metadata": {
        "colab": {
          "base_uri": "https://localhost:8080/"
        },
        "id": "xdhB0lerLhYA",
        "outputId": "d3fb855e-0709-4cfa-eaa9-4f632be77f30"
      },
      "execution_count": 78,
      "outputs": [
        {
          "output_type": "stream",
          "name": "stdout",
          "text": [
            "The model used is Random Forest Classifier\n",
            "The accuracy is 0.9978028237783293\n",
            "The pression is 1.0\n",
            "The f1 score is 0.12903225806451613\n",
            "The Matthews correlation coefficient is0.2623241566855461\n"
          ]
        }
      ]
    },
    {
      "cell_type": "code",
      "source": [
        "# printing the confusion matrix\n",
        "LABELS = ['Normal', 'Fraud']\n",
        "conf_matrix = confusion_matrix(yTest, yPred)\n",
        "plt.figure(figsize =(12, 12))\n",
        "sns.heatmap(conf_matrix, xticklabels = LABELS,\n",
        "            yticklabels = LABELS, annot = True, fmt =\"d\");\n",
        "plt.title(\"Confusion matrix\")\n",
        "plt.ylabel('True class')\n",
        "plt.xlabel('Predicted class')\n",
        "plt.show()\n"
      ],
      "metadata": {
        "colab": {
          "base_uri": "https://localhost:8080/",
          "height": 1000
        },
        "id": "TFcS_i4f0khn",
        "outputId": "7f876e2b-fd5c-4d87-eb96-cdaabb2e3f5e"
      },
      "execution_count": 80,
      "outputs": [
        {
          "output_type": "display_data",
          "data": {
            "text/plain": [
              "<Figure size 1200x1200 with 2 Axes>"
            ],
            "image/png": "[encoded data removed]"
          },
          "metadata": {}
        }
      ]
    }
  ]
}